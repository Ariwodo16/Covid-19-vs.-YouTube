{
 "cells": [
  {
   "cell_type": "code",
   "execution_count": 9,
   "id": "28c8b03d",
   "metadata": {},
   "outputs": [],
   "source": [
    "# NOTE: You WILL need to install the client into your directory for the project notebook to use API\n",
    "# Run the below code in environment\n",
    "    # pip install google-api-python-client"
   ]
  },
  {
   "cell_type": "code",
   "execution_count": 13,
   "id": "5243d160",
   "metadata": {},
   "outputs": [],
   "source": [
    "# Dependencies and Setup (using what I think will work well for the moment)\n",
    "import matplotlib.pyplot as plt\n",
    "import pandas as pd\n",
    "import numpy as np\n",
    "import requests\n",
    "import time\n",
    "import scipy.stats as st\n",
    "from scipy.stats import linregress\n",
    "from pprint import pprint\n",
    "import warnings\n",
    "warnings.filterwarnings('ignore')\n",
    "\n",
    "# importing build function to create a service object\n",
    "# https://github.com/googleapis/google-api-python-client/blob/main/docs/start.md\n",
    "from googleapiclient.discovery import build\n",
    "\n",
    "# Import api key\n",
    "from api_keys import g_key"
   ]
  },
  {
   "cell_type": "code",
   "execution_count": 20,
   "id": "fff25528",
   "metadata": {},
   "outputs": [
    {
     "name": "stdout",
     "output_type": "stream",
     "text": [
      "{'etag': 'llRKlDhVAQR_w_2vhiTEp43viUE',\n",
      " 'items': [{'etag': 'peqesTB1gB_BRzYfYJrIze03Zfk',\n",
      "            'id': 'UC-lHJZR3Gqxm24_Vd_AJ5Yw',\n",
      "            'kind': 'youtube#channel',\n",
      "            'statistics': {'hiddenSubscriberCount': False,\n",
      "                           'subscriberCount': '111000000',\n",
      "                           'videoCount': '4495',\n",
      "                           'viewCount': '28452904335'}}],\n",
      " 'kind': 'youtube#channelListResponse',\n",
      " 'pageInfo': {'resultsPerPage': 5, 'totalResults': 1}}\n"
     ]
    }
   ],
   "source": [
    "# Construct a Resource for interacting with an API.\n",
    "# https://googleapis.github.io/google-api-python-client/docs/epy/googleapiclient.discovery-module.html#build\n",
    "youtube = build('youtube','v3', developerKey=g_key)\n",
    "\n",
    "# Link below for viewing documentation on Youtube Data API Instance Methods\n",
    "# https://googleapis.github.io/google-api-python-client/docs/dyn/youtube_v3.html\n",
    "\n",
    "\n",
    "# creating request for data sample\n",
    "# can go to the following link and go to each section's 'list' page to know what we want to pull\n",
    "# https://developers.google.com/youtube/v3/docs\n",
    "request = youtube.channels().list(\n",
    "        part='statistics',\n",
    "        forUsername = 'PewdiePie')\n",
    "\n",
    "\n",
    "# executing the request for data from API in order to get response\n",
    "response = request.execute()\n",
    "\n",
    "# 'pretty' print the json response request\n",
    "pprint(response)"
   ]
  },
  {
   "cell_type": "code",
   "execution_count": null,
   "id": "4a1418e6",
   "metadata": {},
   "outputs": [],
   "source": []
  }
 ],
 "metadata": {
  "kernelspec": {
   "display_name": "Python 3 (ipykernel)",
   "language": "python",
   "name": "python3"
  },
  "language_info": {
   "codemirror_mode": {
    "name": "ipython",
    "version": 3
   },
   "file_extension": ".py",
   "mimetype": "text/x-python",
   "name": "python",
   "nbconvert_exporter": "python",
   "pygments_lexer": "ipython3",
   "version": "3.9.12"
  }
 },
 "nbformat": 4,
 "nbformat_minor": 5
}
