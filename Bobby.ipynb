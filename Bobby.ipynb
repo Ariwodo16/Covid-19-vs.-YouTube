{
 "cells": [
  {
   "cell_type": "code",
   "execution_count": 1,
   "id": "984a5633",
   "metadata": {},
   "outputs": [],
   "source": [
    "# import dependencies\n",
    "import pandas as pd\n",
    "import json\n",
    "#pip install --upgrade google-api-python-client google-auth-httplib2 google-auth-oauthlib\n"
   ]
  },
  {
   "cell_type": "code",
   "execution_count": 2,
   "id": "32e2c01b",
   "metadata": {
    "scrolled": true
   },
   "outputs": [
    {
     "data": {
      "text/html": [
       "<div>\n",
       "<style scoped>\n",
       "    .dataframe tbody tr th:only-of-type {\n",
       "        vertical-align: middle;\n",
       "    }\n",
       "\n",
       "    .dataframe tbody tr th {\n",
       "        vertical-align: top;\n",
       "    }\n",
       "\n",
       "    .dataframe thead th {\n",
       "        text-align: right;\n",
       "    }\n",
       "</style>\n",
       "<table border=\"1\" class=\"dataframe\">\n",
       "  <thead>\n",
       "    <tr style=\"text-align: right;\">\n",
       "      <th></th>\n",
       "      <th>video_id</th>\n",
       "      <th>title</th>\n",
       "      <th>publishedAt</th>\n",
       "      <th>channelId</th>\n",
       "      <th>channelTitle</th>\n",
       "      <th>categoryId</th>\n",
       "      <th>trending_date</th>\n",
       "      <th>tags</th>\n",
       "      <th>view_count</th>\n",
       "      <th>likes</th>\n",
       "      <th>dislikes</th>\n",
       "      <th>comment_count</th>\n",
       "      <th>thumbnail_link</th>\n",
       "      <th>comments_disabled</th>\n",
       "      <th>ratings_disabled</th>\n",
       "      <th>description</th>\n",
       "    </tr>\n",
       "  </thead>\n",
       "  <tbody>\n",
       "    <tr>\n",
       "      <th>0</th>\n",
       "      <td>3C66w5Z0ixs</td>\n",
       "      <td>I ASKED HER TO BE MY GIRLFRIEND...</td>\n",
       "      <td>2020-08-11T19:20:14Z</td>\n",
       "      <td>UCvtRTOMP2TqYqu51xNrqAzg</td>\n",
       "      <td>Brawadis</td>\n",
       "      <td>22</td>\n",
       "      <td>2020-08-12T00:00:00Z</td>\n",
       "      <td>brawadis|prank|basketball|skits|ghost|funny vi...</td>\n",
       "      <td>1514614</td>\n",
       "      <td>156908</td>\n",
       "      <td>5855</td>\n",
       "      <td>35313</td>\n",
       "      <td>https://i.ytimg.com/vi/3C66w5Z0ixs/default.jpg</td>\n",
       "      <td>False</td>\n",
       "      <td>False</td>\n",
       "      <td>SUBSCRIBE to BRAWADIS ▶ http://bit.ly/Subscrib...</td>\n",
       "    </tr>\n",
       "    <tr>\n",
       "      <th>1</th>\n",
       "      <td>M9Pmf9AB4Mo</td>\n",
       "      <td>Apex Legends | Stories from the Outlands – “Th...</td>\n",
       "      <td>2020-08-11T17:00:10Z</td>\n",
       "      <td>UC0ZV6M2THA81QT9hrVWJG3A</td>\n",
       "      <td>Apex Legends</td>\n",
       "      <td>20</td>\n",
       "      <td>2020-08-12T00:00:00Z</td>\n",
       "      <td>Apex Legends|Apex Legends characters|new Apex ...</td>\n",
       "      <td>2381688</td>\n",
       "      <td>146739</td>\n",
       "      <td>2794</td>\n",
       "      <td>16549</td>\n",
       "      <td>https://i.ytimg.com/vi/M9Pmf9AB4Mo/default.jpg</td>\n",
       "      <td>False</td>\n",
       "      <td>False</td>\n",
       "      <td>While running her own modding shop, Ramya Pare...</td>\n",
       "    </tr>\n",
       "    <tr>\n",
       "      <th>2</th>\n",
       "      <td>J78aPJ3VyNs</td>\n",
       "      <td>I left youtube for a month and THIS is what ha...</td>\n",
       "      <td>2020-08-11T16:34:06Z</td>\n",
       "      <td>UCYzPXprvl5Y-Sf0g4vX-m6g</td>\n",
       "      <td>jacksepticeye</td>\n",
       "      <td>24</td>\n",
       "      <td>2020-08-12T00:00:00Z</td>\n",
       "      <td>jacksepticeye|funny|funny meme|memes|jacksepti...</td>\n",
       "      <td>2038853</td>\n",
       "      <td>353787</td>\n",
       "      <td>2628</td>\n",
       "      <td>40221</td>\n",
       "      <td>https://i.ytimg.com/vi/J78aPJ3VyNs/default.jpg</td>\n",
       "      <td>False</td>\n",
       "      <td>False</td>\n",
       "      <td>I left youtube for a month and this is what ha...</td>\n",
       "    </tr>\n",
       "    <tr>\n",
       "      <th>3</th>\n",
       "      <td>kXLn3HkpjaA</td>\n",
       "      <td>XXL 2020 Freshman Class Revealed - Official An...</td>\n",
       "      <td>2020-08-11T16:38:55Z</td>\n",
       "      <td>UCbg_UMjlHJg_19SZckaKajg</td>\n",
       "      <td>XXL</td>\n",
       "      <td>10</td>\n",
       "      <td>2020-08-12T00:00:00Z</td>\n",
       "      <td>xxl freshman|xxl freshmen|2020 xxl freshman|20...</td>\n",
       "      <td>496771</td>\n",
       "      <td>23251</td>\n",
       "      <td>1856</td>\n",
       "      <td>7647</td>\n",
       "      <td>https://i.ytimg.com/vi/kXLn3HkpjaA/default.jpg</td>\n",
       "      <td>False</td>\n",
       "      <td>False</td>\n",
       "      <td>Subscribe to XXL → http://bit.ly/subscribe-xxl...</td>\n",
       "    </tr>\n",
       "    <tr>\n",
       "      <th>4</th>\n",
       "      <td>VIUo6yapDbc</td>\n",
       "      <td>Ultimate DIY Home Movie Theater for The LaBran...</td>\n",
       "      <td>2020-08-11T15:10:05Z</td>\n",
       "      <td>UCDVPcEbVLQgLZX0Rt6jo34A</td>\n",
       "      <td>Mr. Kate</td>\n",
       "      <td>26</td>\n",
       "      <td>2020-08-12T00:00:00Z</td>\n",
       "      <td>The LaBrant Family|DIY|Interior Design|Makeove...</td>\n",
       "      <td>1123889</td>\n",
       "      <td>45802</td>\n",
       "      <td>964</td>\n",
       "      <td>2196</td>\n",
       "      <td>https://i.ytimg.com/vi/VIUo6yapDbc/default.jpg</td>\n",
       "      <td>False</td>\n",
       "      <td>False</td>\n",
       "      <td>Transforming The LaBrant Family's empty white ...</td>\n",
       "    </tr>\n",
       "  </tbody>\n",
       "</table>\n",
       "</div>"
      ],
      "text/plain": [
       "      video_id                                              title  \\\n",
       "0  3C66w5Z0ixs                 I ASKED HER TO BE MY GIRLFRIEND...   \n",
       "1  M9Pmf9AB4Mo  Apex Legends | Stories from the Outlands – “Th...   \n",
       "2  J78aPJ3VyNs  I left youtube for a month and THIS is what ha...   \n",
       "3  kXLn3HkpjaA  XXL 2020 Freshman Class Revealed - Official An...   \n",
       "4  VIUo6yapDbc  Ultimate DIY Home Movie Theater for The LaBran...   \n",
       "\n",
       "            publishedAt                 channelId   channelTitle  categoryId  \\\n",
       "0  2020-08-11T19:20:14Z  UCvtRTOMP2TqYqu51xNrqAzg       Brawadis          22   \n",
       "1  2020-08-11T17:00:10Z  UC0ZV6M2THA81QT9hrVWJG3A   Apex Legends          20   \n",
       "2  2020-08-11T16:34:06Z  UCYzPXprvl5Y-Sf0g4vX-m6g  jacksepticeye          24   \n",
       "3  2020-08-11T16:38:55Z  UCbg_UMjlHJg_19SZckaKajg            XXL          10   \n",
       "4  2020-08-11T15:10:05Z  UCDVPcEbVLQgLZX0Rt6jo34A       Mr. Kate          26   \n",
       "\n",
       "          trending_date                                               tags  \\\n",
       "0  2020-08-12T00:00:00Z  brawadis|prank|basketball|skits|ghost|funny vi...   \n",
       "1  2020-08-12T00:00:00Z  Apex Legends|Apex Legends characters|new Apex ...   \n",
       "2  2020-08-12T00:00:00Z  jacksepticeye|funny|funny meme|memes|jacksepti...   \n",
       "3  2020-08-12T00:00:00Z  xxl freshman|xxl freshmen|2020 xxl freshman|20...   \n",
       "4  2020-08-12T00:00:00Z  The LaBrant Family|DIY|Interior Design|Makeove...   \n",
       "\n",
       "   view_count   likes  dislikes  comment_count  \\\n",
       "0     1514614  156908      5855          35313   \n",
       "1     2381688  146739      2794          16549   \n",
       "2     2038853  353787      2628          40221   \n",
       "3      496771   23251      1856           7647   \n",
       "4     1123889   45802       964           2196   \n",
       "\n",
       "                                   thumbnail_link  comments_disabled  \\\n",
       "0  https://i.ytimg.com/vi/3C66w5Z0ixs/default.jpg              False   \n",
       "1  https://i.ytimg.com/vi/M9Pmf9AB4Mo/default.jpg              False   \n",
       "2  https://i.ytimg.com/vi/J78aPJ3VyNs/default.jpg              False   \n",
       "3  https://i.ytimg.com/vi/kXLn3HkpjaA/default.jpg              False   \n",
       "4  https://i.ytimg.com/vi/VIUo6yapDbc/default.jpg              False   \n",
       "\n",
       "   ratings_disabled                                        description  \n",
       "0             False  SUBSCRIBE to BRAWADIS ▶ http://bit.ly/Subscrib...  \n",
       "1             False  While running her own modding shop, Ramya Pare...  \n",
       "2             False  I left youtube for a month and this is what ha...  \n",
       "3             False  Subscribe to XXL → http://bit.ly/subscribe-xxl...  \n",
       "4             False  Transforming The LaBrant Family's empty white ...  "
      ]
     },
     "execution_count": 2,
     "metadata": {},
     "output_type": "execute_result"
    }
   ],
   "source": [
    "#Read CSV\n",
    "Youtube_Data = pd.read_csv('US_youtube_trending_data.csv')\n",
    "\n",
    "# Convert CSV to Data Frame\n",
    "Youtube_Data = pd.DataFrame(Youtube_Data)\n",
    "\n",
    "# preview Data Frame\n",
    "Youtube_Data.head()"
   ]
  },
  {
   "cell_type": "code",
   "execution_count": 3,
   "id": "c0bf3bcf",
   "metadata": {},
   "outputs": [
    {
     "data": {
      "text/html": [
       "<div>\n",
       "<style scoped>\n",
       "    .dataframe tbody tr th:only-of-type {\n",
       "        vertical-align: middle;\n",
       "    }\n",
       "\n",
       "    .dataframe tbody tr th {\n",
       "        vertical-align: top;\n",
       "    }\n",
       "\n",
       "    .dataframe thead th {\n",
       "        text-align: right;\n",
       "    }\n",
       "</style>\n",
       "<table border=\"1\" class=\"dataframe\">\n",
       "  <thead>\n",
       "    <tr style=\"text-align: right;\">\n",
       "      <th></th>\n",
       "      <th>video_id</th>\n",
       "      <th>title</th>\n",
       "      <th>publishedAt</th>\n",
       "      <th>channelId</th>\n",
       "      <th>channelTitle</th>\n",
       "      <th>categoryId</th>\n",
       "      <th>trending_date</th>\n",
       "      <th>tags</th>\n",
       "      <th>view_count</th>\n",
       "      <th>likes</th>\n",
       "      <th>dislikes</th>\n",
       "      <th>comment_count</th>\n",
       "      <th>thumbnail_link</th>\n",
       "      <th>comments_disabled</th>\n",
       "      <th>ratings_disabled</th>\n",
       "      <th>description</th>\n",
       "    </tr>\n",
       "  </thead>\n",
       "  <tbody>\n",
       "    <tr>\n",
       "      <th>143385</th>\n",
       "      <td>1GOzQD9H9bo</td>\n",
       "      <td>Drought Discoveries: Father-son duo document f...</td>\n",
       "      <td>2022-07-19T13:17:03Z</td>\n",
       "      <td>UCpR_4YnLJAphcr0VI5yR5SA</td>\n",
       "      <td>FOX5 Las Vegas</td>\n",
       "      <td>25</td>\n",
       "      <td>2022-07-25T00:00:00Z</td>\n",
       "      <td>KVVU|Fox5|Fox5Vegas|Las Vegas|Vegas</td>\n",
       "      <td>414168</td>\n",
       "      <td>3509</td>\n",
       "      <td>0</td>\n",
       "      <td>672</td>\n",
       "      <td>https://i.ytimg.com/vi/1GOzQD9H9bo/default.jpg</td>\n",
       "      <td>False</td>\n",
       "      <td>False</td>\n",
       "      <td>DROUGHT DISCOVERIES: A father-son duo has been...</td>\n",
       "    </tr>\n",
       "    <tr>\n",
       "      <th>143386</th>\n",
       "      <td>zrLxSgh5YxU</td>\n",
       "      <td>Funeral held for Ivana Trump</td>\n",
       "      <td>2022-07-20T21:36:49Z</td>\n",
       "      <td>UCIjSUWHWp6KohfnR5OQTXnQ</td>\n",
       "      <td>FOX 5 New York</td>\n",
       "      <td>25</td>\n",
       "      <td>2022-07-25T00:00:00Z</td>\n",
       "      <td>ivana trump funeral|ivana trump dies|ivana tru...</td>\n",
       "      <td>728579</td>\n",
       "      <td>6243</td>\n",
       "      <td>0</td>\n",
       "      <td>875</td>\n",
       "      <td>https://i.ytimg.com/vi/zrLxSgh5YxU/default.jpg</td>\n",
       "      <td>False</td>\n",
       "      <td>False</td>\n",
       "      <td>Former President Donald Trump, all his childre...</td>\n",
       "    </tr>\n",
       "    <tr>\n",
       "      <th>143387</th>\n",
       "      <td>avi9iBC8opU</td>\n",
       "      <td>'Which Uses More Electricity...A Refrigerator ...</td>\n",
       "      <td>2022-07-19T17:00:01Z</td>\n",
       "      <td>UCg40OxZ1GYh3u3jBntB6DLg</td>\n",
       "      <td>Forbes Breaking News</td>\n",
       "      <td>25</td>\n",
       "      <td>2022-07-25T00:00:00Z</td>\n",
       "      <td>Rep. Thomas Massie|Sec. Pete Buttigieg|House</td>\n",
       "      <td>924917</td>\n",
       "      <td>19340</td>\n",
       "      <td>0</td>\n",
       "      <td>9553</td>\n",
       "      <td>https://i.ytimg.com/vi/avi9iBC8opU/default.jpg</td>\n",
       "      <td>False</td>\n",
       "      <td>False</td>\n",
       "      <td>At today's House Transportation Committee hear...</td>\n",
       "    </tr>\n",
       "    <tr>\n",
       "      <th>143388</th>\n",
       "      <td>4tYuIU7pLmI</td>\n",
       "      <td>JACK - J97 | NGÔI SAO CÔ ĐƠN | OFFICIAL MUSIC ...</td>\n",
       "      <td>2022-07-19T13:09:08Z</td>\n",
       "      <td>UChUJa1JyBc7Lc4orkiNKKQg</td>\n",
       "      <td>J97</td>\n",
       "      <td>10</td>\n",
       "      <td>2022-07-25T00:00:00Z</td>\n",
       "      <td>J97|jack|phương tuấn|jack phương tuấn|j 97|jac...</td>\n",
       "      <td>13706188</td>\n",
       "      <td>694419</td>\n",
       "      <td>0</td>\n",
       "      <td>207765</td>\n",
       "      <td>https://i.ytimg.com/vi/4tYuIU7pLmI/default.jpg</td>\n",
       "      <td>False</td>\n",
       "      <td>False</td>\n",
       "      <td>JACK - J97 | NGÔI SAO CÔ ĐƠN | OFFICIAL MUSIC ...</td>\n",
       "    </tr>\n",
       "    <tr>\n",
       "      <th>143389</th>\n",
       "      <td>YB-zx_P_51I</td>\n",
       "      <td>Better Call Saul Season 6 Episode 9 Breakdown ...</td>\n",
       "      <td>2022-07-19T16:24:02Z</td>\n",
       "      <td>UC8zAiZUuUXe-touFVopBbZw</td>\n",
       "      <td>Pete Peppers</td>\n",
       "      <td>24</td>\n",
       "      <td>2022-07-25T00:00:00Z</td>\n",
       "      <td>better call saul|better call saul season 6 epi...</td>\n",
       "      <td>323192</td>\n",
       "      <td>9936</td>\n",
       "      <td>0</td>\n",
       "      <td>2345</td>\n",
       "      <td>https://i.ytimg.com/vi/YB-zx_P_51I/default.jpg</td>\n",
       "      <td>False</td>\n",
       "      <td>False</td>\n",
       "      <td>Better Call Saul Season 6 Episode 9 Breakdown ...</td>\n",
       "    </tr>\n",
       "  </tbody>\n",
       "</table>\n",
       "</div>"
      ],
      "text/plain": [
       "           video_id                                              title  \\\n",
       "143385  1GOzQD9H9bo  Drought Discoveries: Father-son duo document f...   \n",
       "143386  zrLxSgh5YxU                       Funeral held for Ivana Trump   \n",
       "143387  avi9iBC8opU  'Which Uses More Electricity...A Refrigerator ...   \n",
       "143388  4tYuIU7pLmI  JACK - J97 | NGÔI SAO CÔ ĐƠN | OFFICIAL MUSIC ...   \n",
       "143389  YB-zx_P_51I  Better Call Saul Season 6 Episode 9 Breakdown ...   \n",
       "\n",
       "                 publishedAt                 channelId          channelTitle  \\\n",
       "143385  2022-07-19T13:17:03Z  UCpR_4YnLJAphcr0VI5yR5SA        FOX5 Las Vegas   \n",
       "143386  2022-07-20T21:36:49Z  UCIjSUWHWp6KohfnR5OQTXnQ        FOX 5 New York   \n",
       "143387  2022-07-19T17:00:01Z  UCg40OxZ1GYh3u3jBntB6DLg  Forbes Breaking News   \n",
       "143388  2022-07-19T13:09:08Z  UChUJa1JyBc7Lc4orkiNKKQg                   J97   \n",
       "143389  2022-07-19T16:24:02Z  UC8zAiZUuUXe-touFVopBbZw          Pete Peppers   \n",
       "\n",
       "        categoryId         trending_date  \\\n",
       "143385          25  2022-07-25T00:00:00Z   \n",
       "143386          25  2022-07-25T00:00:00Z   \n",
       "143387          25  2022-07-25T00:00:00Z   \n",
       "143388          10  2022-07-25T00:00:00Z   \n",
       "143389          24  2022-07-25T00:00:00Z   \n",
       "\n",
       "                                                     tags  view_count   likes  \\\n",
       "143385                KVVU|Fox5|Fox5Vegas|Las Vegas|Vegas      414168    3509   \n",
       "143386  ivana trump funeral|ivana trump dies|ivana tru...      728579    6243   \n",
       "143387       Rep. Thomas Massie|Sec. Pete Buttigieg|House      924917   19340   \n",
       "143388  J97|jack|phương tuấn|jack phương tuấn|j 97|jac...    13706188  694419   \n",
       "143389  better call saul|better call saul season 6 epi...      323192    9936   \n",
       "\n",
       "        dislikes  comment_count  \\\n",
       "143385         0            672   \n",
       "143386         0            875   \n",
       "143387         0           9553   \n",
       "143388         0         207765   \n",
       "143389         0           2345   \n",
       "\n",
       "                                        thumbnail_link  comments_disabled  \\\n",
       "143385  https://i.ytimg.com/vi/1GOzQD9H9bo/default.jpg              False   \n",
       "143386  https://i.ytimg.com/vi/zrLxSgh5YxU/default.jpg              False   \n",
       "143387  https://i.ytimg.com/vi/avi9iBC8opU/default.jpg              False   \n",
       "143388  https://i.ytimg.com/vi/4tYuIU7pLmI/default.jpg              False   \n",
       "143389  https://i.ytimg.com/vi/YB-zx_P_51I/default.jpg              False   \n",
       "\n",
       "        ratings_disabled                                        description  \n",
       "143385             False  DROUGHT DISCOVERIES: A father-son duo has been...  \n",
       "143386             False  Former President Donald Trump, all his childre...  \n",
       "143387             False  At today's House Transportation Committee hear...  \n",
       "143388             False  JACK - J97 | NGÔI SAO CÔ ĐƠN | OFFICIAL MUSIC ...  \n",
       "143389             False  Better Call Saul Season 6 Episode 9 Breakdown ...  "
      ]
     },
     "execution_count": 3,
     "metadata": {},
     "output_type": "execute_result"
    }
   ],
   "source": [
    "# Preview last 5 rows of Data Frame\n",
    "Youtube_Data.tail()"
   ]
  },
  {
   "cell_type": "code",
   "execution_count": 4,
   "id": "0b2c4386",
   "metadata": {},
   "outputs": [
    {
     "data": {
      "text/plain": [
       "Index(['video_id', 'title', 'publishedAt', 'channelId', 'channelTitle',\n",
       "       'categoryId', 'trending_date', 'tags', 'view_count', 'likes',\n",
       "       'dislikes', 'comment_count', 'thumbnail_link', 'comments_disabled',\n",
       "       'ratings_disabled', 'description'],\n",
       "      dtype='object')"
      ]
     },
     "execution_count": 4,
     "metadata": {},
     "output_type": "execute_result"
    }
   ],
   "source": [
    "Youtube_Data.columns"
   ]
  },
  {
   "cell_type": "code",
   "execution_count": 5,
   "id": "b7c6eac1",
   "metadata": {},
   "outputs": [
    {
     "data": {
      "text/plain": [
       "video_id             object\n",
       "title                object\n",
       "publishedAt          object\n",
       "channelId            object\n",
       "channelTitle         object\n",
       "categoryId            int64\n",
       "trending_date        object\n",
       "tags                 object\n",
       "view_count            int64\n",
       "likes                 int64\n",
       "dislikes              int64\n",
       "comment_count         int64\n",
       "thumbnail_link       object\n",
       "comments_disabled      bool\n",
       "ratings_disabled       bool\n",
       "description          object\n",
       "dtype: object"
      ]
     },
     "execution_count": 5,
     "metadata": {},
     "output_type": "execute_result"
    }
   ],
   "source": [
    "# Observe Data Types\n",
    "Youtube_Data.dtypes"
   ]
  },
  {
   "cell_type": "code",
   "execution_count": 6,
   "id": "595afca5",
   "metadata": {},
   "outputs": [
    {
     "data": {
      "text/plain": [
       "143390"
      ]
     },
     "execution_count": 6,
     "metadata": {},
     "output_type": "execute_result"
    }
   ],
   "source": [
    "# Number of Records in data\n",
    "len(Youtube_Data)"
   ]
  },
  {
   "cell_type": "code",
   "execution_count": 7,
   "id": "ad17ed33",
   "metadata": {},
   "outputs": [
    {
     "name": "stdout",
     "output_type": "stream",
     "text": [
      "Rows     :  143390\n",
      "Columns  :  16\n",
      "\n",
      "Features : \n",
      " ['video_id', 'title', 'publishedAt', 'channelId', 'channelTitle', 'categoryId', 'trending_date', 'tags', 'view_count', 'likes', 'dislikes', 'comment_count', 'thumbnail_link', 'comments_disabled', 'ratings_disabled', 'description']\n",
      "\n",
      "Missing values :   3663\n",
      "\n",
      "Unique values :  \n",
      " video_id              26273\n",
      "title                 26896\n",
      "publishedAt           25881\n",
      "channelId              6065\n",
      "channelTitle           6175\n",
      "categoryId               15\n",
      "trending_date           697\n",
      "tags                  19117\n",
      "view_count           139730\n",
      "likes                 98006\n",
      "dislikes              13179\n",
      "comment_count         28951\n",
      "thumbnail_link        26273\n",
      "comments_disabled         2\n",
      "ratings_disabled          2\n",
      "description           26843\n",
      "dtype: int64\n"
     ]
    }
   ],
   "source": [
    "print (\"Rows     : \" , Youtube_Data.shape[0]) #Displays numbers of rows .\n",
    "print (\"Columns  : \" , Youtube_Data.shape[1]) # and column our dataset contains.\n",
    "print (\"\\nFeatures : \\n\", Youtube_Data.columns.tolist())#displays column names\n",
    "print (\"\\nMissing values :  \", Youtube_Data.isnull().sum().values.sum())   #find missing values\n",
    "print (\"\\nUnique values :  \\n\", Youtube_Data.nunique())  # Count distinct observations"
   ]
  },
  {
   "cell_type": "code",
   "execution_count": 8,
   "id": "9b41ad09",
   "metadata": {},
   "outputs": [
    {
     "data": {
      "text/plain": [
       "video_id                0\n",
       "title                   0\n",
       "publishedAt             0\n",
       "channelId               0\n",
       "channelTitle            0\n",
       "categoryId              0\n",
       "trending_date           0\n",
       "tags                    0\n",
       "view_count              0\n",
       "likes                   0\n",
       "dislikes                0\n",
       "comment_count           0\n",
       "thumbnail_link          0\n",
       "comments_disabled       0\n",
       "ratings_disabled        0\n",
       "description          3663\n",
       "dtype: int64"
      ]
     },
     "execution_count": 8,
     "metadata": {},
     "output_type": "execute_result"
    }
   ],
   "source": [
    "# finding number of null records for each column\n",
    "Youtube_Data.isna().sum()"
   ]
  },
  {
   "cell_type": "code",
   "execution_count": 9,
   "id": "7343741e",
   "metadata": {},
   "outputs": [],
   "source": [
    "# Dropping unecessary columns\n",
    "Youtube_Data = Youtube_Data.drop(columns=['tags','comment_count','thumbnail_link','comments_disabled','ratings_disabled','description'])"
   ]
  },
  {
   "cell_type": "code",
   "execution_count": 10,
   "id": "f7eaf533",
   "metadata": {},
   "outputs": [],
   "source": [
    "# Renaming columns\n",
    "Youtube_Data = Youtube_Data.rename(columns={'likes':'Likes','dislikes':'Dislikes',\n",
    "                                            'channelTitle':'Channel Title','channelTitle':'Channel Title',\n",
    "                                           'video_id':'Video ID','channelId':'Channel ID','categoryId':'Category ID'})"
   ]
  },
  {
   "cell_type": "code",
   "execution_count": 11,
   "id": "c59287c6",
   "metadata": {},
   "outputs": [],
   "source": [
    "# add new column that would contain latest view_count for the particular video.\n",
    "#since number of views keep on increasing everyday , we will be using only single observation against a video id.\n",
    "Youtube_Data['count_max_view'] = Youtube_Data.groupby(['Video ID'])['view_count'].transform(max)"
   ]
  },
  {
   "cell_type": "code",
   "execution_count": 14,
   "id": "7cf40755",
   "metadata": {},
   "outputs": [],
   "source": [
    "Youtube_Unique_Video_Id = Youtube_Data"
   ]
  },
  {
   "cell_type": "code",
   "execution_count": 15,
   "id": "6e341db7",
   "metadata": {},
   "outputs": [],
   "source": [
    "#changing published date , trending_date to datetime datatype.\n",
    "Youtube_Unique_Video_Id.publishedAt= pd.to_datetime(Youtube_Unique_Video_Id.publishedAt)\n",
    "Youtube_Unique_Video_Id.trending_date= pd.to_datetime(Youtube_Unique_Video_Id.trending_date)"
   ]
  },
  {
   "cell_type": "code",
   "execution_count": 16,
   "id": "11ff0e69",
   "metadata": {},
   "outputs": [],
   "source": [
    "#Adding column for year to the dataframe\n",
    "Youtube_Unique_Video_Id['Year']=Youtube_Unique_Video_Id['publishedAt'].dt.year\n",
    "Youtube_Unique_Video_Id['Month']=Youtube_Unique_Video_Id.publishedAt.dt.month"
   ]
  },
  {
   "cell_type": "code",
   "execution_count": 17,
   "id": "17f0b9f9",
   "metadata": {},
   "outputs": [
    {
     "data": {
      "text/plain": [
       "13038"
      ]
     },
     "execution_count": 17,
     "metadata": {},
     "output_type": "execute_result"
    }
   ],
   "source": [
    "# make a new dataframe with only single observations for each id.\n",
    "Youtube_Unique_Video_Id = Youtube_Data.loc[Youtube_Data.view_count == Youtube_Data.count_max_view]\n",
    "Youtube_Unique_Video_Id.loc[Youtube_Unique_Video_Id.Year == 2021, 'title'].count()"
   ]
  },
  {
   "cell_type": "code",
   "execution_count": null,
   "id": "b3c98236",
   "metadata": {},
   "outputs": [],
   "source": []
  },
  {
   "cell_type": "code",
   "execution_count": null,
   "id": "b337d5aa",
   "metadata": {
    "scrolled": true
   },
   "outputs": [],
   "source": [
    "# Number of unique records in each column\n",
    "Youtube_Unique_Video_Id.nunique()"
   ]
  },
  {
   "cell_type": "code",
   "execution_count": null,
   "id": "8fa97649",
   "metadata": {
    "scrolled": true
   },
   "outputs": [],
   "source": [
    "Youtube_Unique_Video_Id.duplicated(subset=['Video ID'])"
   ]
  },
  {
   "cell_type": "code",
   "execution_count": null,
   "id": "fa733974",
   "metadata": {
    "scrolled": true
   },
   "outputs": [],
   "source": [
    "Youtube_Unique_Video_Id.groupby(['Video ID']).count().sort_values(by=)"
   ]
  },
  {
   "cell_type": "code",
   "execution_count": null,
   "id": "b64ccb90",
   "metadata": {},
   "outputs": [],
   "source": [
    "# display data frame first five rows\n",
    "Youtube_Unique_Video_Id.head()"
   ]
  },
  {
   "cell_type": "code",
   "execution_count": null,
   "id": "32436969",
   "metadata": {},
   "outputs": [],
   "source": [
    "Youtube_Unique_Video_Id.describe()"
   ]
  },
  {
   "cell_type": "code",
   "execution_count": null,
   "id": "89f8cde5",
   "metadata": {},
   "outputs": [],
   "source": [
    "Youtube_Data.head()"
   ]
  },
  {
   "cell_type": "code",
   "execution_count": null,
   "id": "b02a547a",
   "metadata": {
    "scrolled": true
   },
   "outputs": [],
   "source": [
    "# gives us various count of video in each channel category\n",
    "Youtube_Data.groupby(\"Category ID\").size().reset_index(name=\"View Count\") \\\n",
    "    .sort_values(\"View Count\", ascending=False).head(20)"
   ]
  },
  {
   "cell_type": "code",
   "execution_count": null,
   "id": "8216216f",
   "metadata": {},
   "outputs": [],
   "source": [
    "#Getting category for the category file\n",
    "#we need id and title from this file which are under items tag and snippet contain title\n",
    "with open(\"US_category_id.json\") as f:\n",
    "    categories = json.load(f)[\"items\"]\n",
    "cat_dict = {}\n",
    "category=[]\n",
    "for cat in categories:\n",
    "    category.append([cat[\"id\"],cat[\"snippet\"][\"title\"]])"
   ]
  },
  {
   "cell_type": "code",
   "execution_count": null,
   "id": "d877c316",
   "metadata": {},
   "outputs": [],
   "source": [
    "df_category = pd.DataFrame(category,columns=['categoryId','category']) \n",
    "df_category.head(20)"
   ]
  },
  {
   "cell_type": "code",
   "execution_count": null,
   "id": "d05ae989",
   "metadata": {},
   "outputs": [],
   "source": [
    "df_category.categoryId=df_category.categoryId.astype('int64')\n",
    "#merge YT Data Frame and df_category to get category names\n",
    "df_merge = Youtube_Data.merge(df_category, on = 'categoryId', how = 'inner')\n",
    "df_merge['category']"
   ]
  },
  {
   "cell_type": "code",
   "execution_count": null,
   "id": "551a87b1",
   "metadata": {},
   "outputs": [],
   "source": [
    "# Create summary chart for video counts by categories\n",
    "agg_func_count = {'view_count': ['count', 'nunique', 'size']}\n",
    "df_merge.groupby(['category']).agg(agg_func_count)\n",
    "\n",
    "#change to clean data frame name\n",
    "Youtube_Data_Updated = df_merge"
   ]
  },
  {
   "cell_type": "code",
   "execution_count": null,
   "id": "6fca3dd7",
   "metadata": {},
   "outputs": [],
   "source": [
    "# Youtube Data for 2020\n",
    "YT_Data_2020 = Youtube_Data_Updated.loc[(Youtube_Data_Updated['Year']) >= 2020]"
   ]
  },
  {
   "cell_type": "code",
   "execution_count": null,
   "id": "378b1d69",
   "metadata": {},
   "outputs": [],
   "source": [
    "# Counts of video in each category published in 2020\n",
    "YT_2020_Category_Summary = {'view_count': ['count', 'nunique', 'size']}\n",
    "YT_2020_Category_Summary = YT_Data_2020.groupby(['category']).agg(agg_func_count)"
   ]
  },
  {
   "cell_type": "code",
   "execution_count": null,
   "id": "e805a064",
   "metadata": {},
   "outputs": [],
   "source": [
    "# mean, median, mode, and average of the video categories count list (max, min, mode)\n",
    "# Calculate total likes\n",
    "# Avaerage of likes against total volume of videos\n",
    "# Correlation between like count and volume of views\n",
    "YT_2020_Category_Summary"
   ]
  },
  {
   "cell_type": "code",
   "execution_count": null,
   "id": "cc6170c9",
   "metadata": {},
   "outputs": [],
   "source": []
  }
 ],
 "metadata": {
  "kernelspec": {
   "display_name": "Python 3 (ipykernel)",
   "language": "python",
   "name": "python3"
  },
  "language_info": {
   "codemirror_mode": {
    "name": "ipython",
    "version": 3
   },
   "file_extension": ".py",
   "mimetype": "text/x-python",
   "name": "python",
   "nbconvert_exporter": "python",
   "pygments_lexer": "ipython3",
   "version": "3.9.12"
  }
 },
 "nbformat": 4,
 "nbformat_minor": 5
}
